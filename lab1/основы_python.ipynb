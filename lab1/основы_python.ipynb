{
 "cells": [
  {
   "cell_type": "markdown",
   "metadata": {
    "id": "M-DGa20PaHnu"
   },
   "source": [
    "#Задача 1\n",
    "Написать функцию на вход которой подается строка, состоящая из латинских букв.\n",
    "Функция должна вернуть количество гласных букв (a, e, i, o, u) в этой строке. Написать тесты для кода"
   ]
  },
  {
   "cell_type": "code",
   "execution_count": 72,
   "metadata": {
    "id": "XvX8X_JJ6PCb"
   },
   "outputs": [
    {
     "name": "stdout",
     "output_type": "stream",
     "text": [
      "0 = 0\n",
      "1 = 1\n",
      "2 = 2\n",
      "0 = 0\n"
     ]
    }
   ],
   "source": [
    "def count_let(a:str) -> int:\n",
    "    count = 0\n",
    "    for i in a:\n",
    "        if i in \"aeiou\":\n",
    "            count+=1\n",
    "    \n",
    "    return count\n",
    "\n",
    "print(count_let(\"\"), \"= 0\")\n",
    "print(count_let(\"world\"), \"= 1\")\n",
    "print(count_let(\"simple\"), \"= 2\")\n",
    "print(count_let(\"sssss\"), \"= 0\")"
   ]
  },
  {
   "cell_type": "markdown",
   "metadata": {
    "id": "t2ClV_Y0bbr6"
   },
   "source": [
    "# Задача 2\n",
    "Написать функцию на вход, которой подается строка. Функция должна вернуть true, если\n",
    "каждый символ в строке встречается только 1 раз, иначе должна вернуть false. Написать тесты для кода"
   ]
  },
  {
   "cell_type": "code",
   "execution_count": 36,
   "metadata": {
    "id": "FppbECao6VIz"
   },
   "outputs": [
    {
     "name": "stdout",
     "output_type": "stream",
     "text": [
      "False = False\n",
      "True = True\n",
      "True = True\n",
      "False = True\n"
     ]
    }
   ],
   "source": [
    "def is_repeats(a:str) -> bool:    \n",
    "    if len(a) == 0:\n",
    "        return False\n",
    "    \n",
    "    return True if len(set(a)) == len(a) else False\n",
    "\n",
    "print(is_repeats(\"\"), \"= False\")\n",
    "print(is_repeats(\"world\"), \"= True\")\n",
    "print(is_repeats(\"blue\"), \"= True\")\n",
    "print(is_repeats(\"yellow\"), \"= True\")"
   ]
  },
  {
   "cell_type": "markdown",
   "metadata": {
    "id": "udRiIK1cdt6E"
   },
   "source": [
    "# Задача 3\n",
    "Написать функцию, которая принимает положительное число и возвращает количество\n",
    "бит равных 1 в этом числе. Написать тесты для кода"
   ]
  },
  {
   "cell_type": "code",
   "execution_count": 75,
   "metadata": {
    "id": "6tkfDJRz6dp_"
   },
   "outputs": [
    {
     "name": "stdout",
     "output_type": "stream",
     "text": [
      "num must be positive = num is positive\n",
      "0 0 = 0\n",
      "10 1 = 1\n",
      "1010 1 = 1\n",
      "1111101000 2 = 2\n"
     ]
    }
   ],
   "source": [
    "def bits(num: int):\n",
    "    if num < 0:\n",
    "        return \"num must be positive\"\n",
    "    return bin(num).count('1')\n",
    "\n",
    "print(bits(-2), \"= num is positive\")\n",
    "print(bin(0)[2:], bits(0), \"= 0\")\n",
    "print(bin(2)[2:], bits(2), \"= 1\")\n",
    "print(bin(10)[2:], bits(2), \"= 1\")\n",
    "print(bin(1000)[2:], bits(10), \"= 2\")"
   ]
  },
  {
   "cell_type": "markdown",
   "metadata": {
    "id": "26dDUz-Ae17N"
   },
   "source": [
    "# Задача 4\n",
    "Написать функцию, которая принимает положительное число. Функция должна вернуть то,\n",
    "сколько раз необходимо перемножать цифры числа или результат перемножения, чтобы\n",
    "получилось число состоящее из одной цифры.\n",
    "Например, для входного числа:\n",
    "· 39 функция должна вернуть 3, так как 3*9=27 => 2*7=14 => 1*4=4\n",
    "· 4 функция должна вернуть 0, так как число уже состоит из одной цифры\n",
    "· 999 функция должна вернуть 4, так как 9*9*9=729 => 7*2*9=126 => 1*2*6=12 =>\n",
    "1*2=2. Написать тесты для кода"
   ]
  },
  {
   "cell_type": "code",
   "execution_count": 90,
   "metadata": {
    "id": "BH1A_Mgi6i4G"
   },
   "outputs": [
    {
     "name": "stdout",
     "output_type": "stream",
     "text": [
      "3*9=27; 2*7=14; 1*4=4\n",
      "3 = 3\n",
      "\n",
      "4\n",
      "0 = 0\n",
      "\n",
      "9*9*9=729; 7*2*9=126; 1*2*6=12; 1*2=2\n",
      "4 = 4\n"
     ]
    }
   ],
   "source": [
    "def magic(num):\n",
    "    res = 1\n",
    "    count = 0\n",
    "    while num > 10:\n",
    "        i = str(num)\n",
    "        for a in i:\n",
    "            res *= int(a)\n",
    "            \n",
    "        num, res = res, 1\n",
    "        count += 1\n",
    "    \n",
    "    return count\n",
    "\n",
    "print(\"3*9=27; 2*7=14; 1*4=4\")\n",
    "print(magic(39), \"= 3\")\n",
    "print()\n",
    "print(\"4\")\n",
    "print(magic(4), \"= 0\")\n",
    "print()\n",
    "print(\"9*9*9=729; 7*2*9=126; 1*2*6=12; 1*2=2\")\n",
    "print(magic(999), \"= 4\")"
   ]
  },
  {
   "cell_type": "markdown",
   "metadata": {
    "id": "0nS-kIa8g8vd"
   },
   "source": [
    "# Задача 5\n",
    "Написать функцию, которая принимает два целочисленных вектора одинаковой длины и\n",
    "возвращает среднеквадратическое отклонение двух векторов. Написать тесты для кода"
   ]
  },
  {
   "cell_type": "code",
   "execution_count": 96,
   "metadata": {
    "id": "8iphx4LM6xbx"
   },
   "outputs": [
    {
     "name": "stdout",
     "output_type": "stream",
     "text": [
      "[2,1]-[1,2]=[1,-1] -> [1,-1]^2 = [1,1] -> mean=(1+1)/2=1 -> sqrt(1)=1\n",
      "1.0 = 1.0\n",
      "\n",
      "vectors is not empty = vectors is not empty\n",
      "\n",
      "sqrt(3^2+2^2) != sqrt(2^2 + 1^2)\n",
      "vectors is the same length = vectors is the same length\n"
     ]
    }
   ],
   "source": [
    "import numpy as np\n",
    "\n",
    "def mse(vect, true):\n",
    "    length_vect = 0\n",
    "    length_true = 0\n",
    "    for e in vect:\n",
    "        length_vect += e**2\n",
    "    for e in true:\n",
    "        length_true += e**2\n",
    "        \n",
    "    if length_vect**0.5 != length_true**0.5:\n",
    "        return \"vectors is the same length\"\n",
    "    \n",
    "    if len(vect) == 0:\n",
    "        return \"vectors is not empty\"\n",
    "    \n",
    "    mse_deviation = np.sqrt(np.mean((true-vect)**2))\n",
    "    \n",
    "    return mse_deviation\n",
    "\n",
    "print(\"[2,1]-[1,2]=[1,-1] -> [1,-1]^2 = [1,1] -> mean=(1+1)/2=1 -> sqrt(1)=1\")\n",
    "print(mse(np.array([1,2]),np.array([2,1])), \"= 1.0\")\n",
    "print()\n",
    "print(mse(np.array([]),np.array([])), \"= vectors is not empty\")\n",
    "print()\n",
    "print(\"sqrt(3^2+2^2) != sqrt(2^2 + 1^2)\")\n",
    "print(mse(np.array([3,2]),np.array([2,1])), \"= vectors is the same length\")"
   ]
  },
  {
   "cell_type": "markdown",
   "metadata": {
    "id": "vpIPKL439zkw"
   },
   "source": [
    "# Задача 6\n",
    "Написать функцию, принимающая целое положительное число. Функция должна вернуть\n",
    "строку вида “(n1**p1)(n2**p2)…(nk**pk)” представляющая разложение числа на простые\n",
    "множители (если pi == 1, то выводить только ni).\n",
    "Например, для числа 86240 функция должна вернуть “(2**5)(5)(7**2)(11)”. Написать тесты для кода"
   ]
  },
  {
   "cell_type": "code",
   "execution_count": 116,
   "metadata": {
    "id": "pFebmcZk94Jw"
   },
   "outputs": [
    {
     "name": "stdout",
     "output_type": "stream",
     "text": [
      "[2, 2, 2, 2, 2, 5, 7, 7, 11] = [2, 2, 2, 2, 2, 5, 7, 7, 11] True\n",
      "[] = [] True\n",
      "[2, 2, 3, 3] = [2, 2, 3, 3] True\n"
     ]
    }
   ],
   "source": [
    "def factor_Number (number):\n",
    "    \n",
    "    res = []\n",
    "    div = 2\n",
    "    while div * div <= number:\n",
    "        if number % div == 0:\n",
    "            res.append(div)\n",
    "            number //= div\n",
    "        else:\n",
    "            div += 1\n",
    "    if number > 1:\n",
    "        res.append(number)\n",
    "    return res\n",
    "\n",
    "test_1 = factor_Number(86240)\n",
    "print(test_1, \"= [2, 2, 2, 2, 2, 5, 7, 7, 11]\", test_1 == [2, 2, 2, 2, 2, 5, 7, 7, 11])\n",
    "\n",
    "test_2 = factor_Number(1)\n",
    "print(test_2, \"= []\", test_2 == [])\n",
    "\n",
    "test_3 = factor_Number(36)\n",
    "print(test_3, \"= [2, 2, 3, 3]\", test_3 == [2, 2, 3, 3])"
   ]
  },
  {
   "cell_type": "markdown",
   "metadata": {
    "id": "ps2s0BudX7A2"
   },
   "source": [
    "# Задача 7\n",
    "Написать функцию, принимающая целое число n, задающее количество кубиков. Функция\n",
    "должна определить, можно ли из данного кол-ва кубиков построить пирамиду, то есть\n",
    "можно ли представить число n как 1^2+2^2+3^2+…+k^2. Если можно, то функция должна\n",
    "вернуть k, иначе строку “It is impossible”. Написать тесты для кода"
   ]
  },
  {
   "cell_type": "code",
   "execution_count": 98,
   "metadata": {
    "id": "3YPjEXxhX_YT"
   },
   "outputs": [
    {
     "name": "stdout",
     "output_type": "stream",
     "text": [
      "При n=1: 1^2 = 1 -> k=1\n",
      "1 = 1\n",
      "\n",
      "При n=15: 1^2 + 2^2 + 3^2 + 4^2 = 1 + 4 + 9 + 16 = 30 -> It is impossible\n",
      "It is impossible = It is impossible\n",
      "\n",
      "При n=5: 1^2 + 2^2 = 1 + 4 = 5 -> k=5\n",
      "4 = 4\n",
      "\n",
      "При n=30: 1^2 + 2^2 + 3^2 + 4^2 = 1 + 4 + 9 + 16 = 30 -> It is impossible\n",
      "16 = 16\n",
      "\n"
     ]
    }
   ],
   "source": [
    "def Piramida(num):\n",
    "    if num == 1:\n",
    "        return 1\n",
    "    sum = 0\n",
    "    for a in range(1,num//2+1):\n",
    "        sum += a**2\n",
    "        if sum == num:\n",
    "            return a**2\n",
    "    return \"It is impossible\"\n",
    "\n",
    "print(\"При n=1: 1^2 = 1 -> k=1\")\n",
    "print(Piramida(1), \"= 1\")\n",
    "print()\n",
    "print(\"При n=15: 1^2 + 2^2 + 3^2 + 4^2 = 1 + 4 + 9 + 16 = 30 -> It is impossible\")\n",
    "print(Piramida(15), \"= It is impossible\")\n",
    "print()\n",
    "print(\"При n=5: 1^2 + 2^2 = 1 + 4 = 5 -> k=5\")\n",
    "print(Piramida(5), \"= 4\")\n",
    "print()\n",
    "print(\"При n=30: 1^2 + 2^2 + 3^2 + 4^2 = 1 + 4 + 9 + 16 = 30 -> It is impossible\")\n",
    "print(Piramida(30), \"= 16\")\n",
    "print()"
   ]
  },
  {
   "cell_type": "markdown",
   "metadata": {
    "id": "KeKgmIdAQMEJ"
   },
   "source": [
    "# Задача 8\n",
    "Функция принимает на вход положительное число и определяет является ли оно сбалансированным, т.е. сумма цифр до средних равна сумме цифр после. Средними в случае нечетного числа цифр считать одну цифру, в случае четного - две средних. Написать тесты для кода"
   ]
  },
  {
   "cell_type": "code",
   "execution_count": 110,
   "metadata": {
    "id": "gMAAqtqlQrZt"
   },
   "outputs": [
    {
     "name": "stdout",
     "output_type": "stream",
     "text": [
      "12 12\n",
      "True = True\n",
      "1 3\n",
      "False = False\n",
      "14 14\n",
      "True = True\n",
      "10 24\n",
      "False = False\n"
     ]
    }
   ],
   "source": [
    "def bal(number):\n",
    "    a = str(number)\n",
    "    mid_1,mid_2 = \"\",\"\"\n",
    "    if len(a) % 2 != 0:\n",
    "        mid_1 = a[len(a)//2]\n",
    "        mid_2 = mid_1\n",
    "    else:\n",
    "        mid_1 = a[len(a)//2-1]\n",
    "        mid_2 = a[len(a)//2]\n",
    "    \n",
    "    sum_1, sum_2 = 0, 0\n",
    "    for i in range(len(a)):\n",
    "        if a[i] != mid_1:\n",
    "            sum_1 += int(a[i])\n",
    "            sum_2 += int(a[len(a)-1-i])\n",
    "        else:\n",
    "            break\n",
    "    print(sum_1,sum_2)\n",
    "    return True if sum_1 == sum_2 else False\n",
    "\n",
    "print(bal(663366), \"= True\")\n",
    "print(bal(123), \"= False\")\n",
    "print(bal(77377), \"= True\")\n",
    "print(bal(1234567890), \"= False\")"
   ]
  },
  {
   "cell_type": "code",
   "execution_count": null,
   "metadata": {},
   "outputs": [],
   "source": []
  },
  {
   "cell_type": "code",
   "execution_count": null,
   "metadata": {},
   "outputs": [],
   "source": []
  },
  {
   "cell_type": "code",
   "execution_count": null,
   "metadata": {},
   "outputs": [],
   "source": []
  },
  {
   "cell_type": "code",
   "execution_count": null,
   "metadata": {},
   "outputs": [],
   "source": []
  }
 ],
 "metadata": {
  "colab": {
   "provenance": []
  },
  "kernelspec": {
   "display_name": "Python 3 (ipykernel)",
   "language": "python",
   "name": "python3"
  },
  "language_info": {
   "codemirror_mode": {
    "name": "ipython",
    "version": 3
   },
   "file_extension": ".py",
   "mimetype": "text/x-python",
   "name": "python",
   "nbconvert_exporter": "python",
   "pygments_lexer": "ipython3",
   "version": "3.11.5"
  }
 },
 "nbformat": 4,
 "nbformat_minor": 1
}
